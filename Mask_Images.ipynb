{
 "cells": [
  {
   "cell_type": "code",
   "execution_count": 1,
   "id": "0bbba992",
   "metadata": {},
   "outputs": [],
   "source": [
    "import numpy as np\n",
    "import cv2 as cv "
   ]
  },
  {
   "cell_type": "code",
   "execution_count": null,
   "id": "7f960d10",
   "metadata": {
    "collapsed": true
   },
   "outputs": [
    {
     "name": "stdout",
     "output_type": "stream",
     "text": [
      "0 179 0 255 0 255\n",
      "0 179 0 255 0 255\n",
      "0 179 0 255 0 255\n",
      "0 179 0 255 0 255\n",
      "0 179 0 255 0 255\n",
      "0 179 0 255 0 255\n",
      "0 179 0 255 0 255\n",
      "0 179 0 255 0 255\n",
      "0 179 0 255 0 255\n",
      "0 179 0 255 0 255\n",
      "0 179 0 255 0 255\n",
      "0 179 0 255 0 255\n",
      "0 179 0 255 0 255\n",
      "0 179 0 255 0 255\n",
      "0 179 0 255 0 255\n",
      "0 179 0 255 0 255\n",
      "0 179 0 255 0 255\n",
      "0 179 0 255 0 255\n",
      "0 179 0 255 0 255\n",
      "0 179 0 255 0 255\n",
      "0 179 0 255 0 255\n",
      "0 179 0 255 0 255\n",
      "0 179 0 255 0 255\n",
      "0 179 0 255 0 255\n",
      "0 179 0 255 0 255\n",
      "0 179 0 255 0 255\n",
      "0 179 0 255 0 255\n",
      "0 179 0 255 0 255\n",
      "0 179 0 255 0 255\n",
      "0 179 0 255 0 255\n",
      "0 179 0 255 0 255\n",
      "0 179 0 255 0 255\n",
      "0 179 0 255 0 255\n",
      "0 179 0 255 0 255\n",
      "0 179 0 255 0 255\n",
      "0 179 0 255 0 255\n",
      "0 179 0 255 0 255\n",
      "0 179 0 255 0 255\n",
      "0 179 0 255 0 255\n",
      "0 179 0 255 0 255\n",
      "0 179 0 255 0 255\n",
      "0 179 0 255 0 255\n",
      "0 179 0 255 0 255\n",
      "0 179 0 255 0 255\n",
      "0 179 0 255 0 255\n",
      "0 179 0 255 0 255\n",
      "0 179 0 255 0 255\n",
      "0 179 0 255 0 255\n",
      "0 179 0 255 0 255\n",
      "0 179 0 255 0 255\n",
      "0 179 0 255 0 255\n",
      "0 179 0 255 0 255\n"
     ]
    },
    {
     "ename": "TypeError",
     "evalue": "'tuple' object is not callable",
     "output_type": "error",
     "traceback": [
      "\u001b[0;31m---------------------------------------------------------------------------\u001b[0m",
      "\u001b[0;31mTypeError\u001b[0m                                 Traceback (most recent call last)",
      "\u001b[0;31mTypeError\u001b[0m: 'tuple' object is not callable"
     ]
    },
    {
     "ename": "TypeError",
     "evalue": "'tuple' object is not callable",
     "output_type": "error",
     "traceback": [
      "\u001b[0;31m---------------------------------------------------------------------------\u001b[0m",
      "\u001b[0;31mTypeError\u001b[0m                                 Traceback (most recent call last)",
      "\u001b[0;31mTypeError\u001b[0m: 'tuple' object is not callable"
     ]
    },
    {
     "name": "stdout",
     "output_type": "stream",
     "text": [
      "0 174 0 255 0 255\n"
     ]
    },
    {
     "ename": "TypeError",
     "evalue": "'tuple' object is not callable",
     "output_type": "error",
     "traceback": [
      "\u001b[0;31m---------------------------------------------------------------------------\u001b[0m",
      "\u001b[0;31mTypeError\u001b[0m                                 Traceback (most recent call last)",
      "\u001b[0;31mTypeError\u001b[0m: 'tuple' object is not callable"
     ]
    },
    {
     "name": "stdout",
     "output_type": "stream",
     "text": [
      "0 164 0 255 0 255\n",
      "0 164 0 255 0 255\n"
     ]
    },
    {
     "ename": "TypeError",
     "evalue": "'tuple' object is not callable",
     "output_type": "error",
     "traceback": [
      "\u001b[0;31m---------------------------------------------------------------------------\u001b[0m",
      "\u001b[0;31mTypeError\u001b[0m                                 Traceback (most recent call last)",
      "\u001b[0;31mTypeError\u001b[0m: 'tuple' object is not callable"
     ]
    },
    {
     "name": "stdout",
     "output_type": "stream",
     "text": [
      "0 153 0 255 0 255\n"
     ]
    },
    {
     "ename": "TypeError",
     "evalue": "'tuple' object is not callable",
     "output_type": "error",
     "traceback": [
      "\u001b[0;31m---------------------------------------------------------------------------\u001b[0m",
      "\u001b[0;31mTypeError\u001b[0m                                 Traceback (most recent call last)",
      "\u001b[0;31mTypeError\u001b[0m: 'tuple' object is not callable"
     ]
    },
    {
     "name": "stdout",
     "output_type": "stream",
     "text": [
      "0 149 0 255 0 255\n",
      "0 149 0 255 0 255\n",
      "0 149 0 255 0 255\n",
      "0 149 0 255 0 255\n",
      "0 149 0 255 0 255\n",
      "0 149 0 255 0 255\n",
      "0 149 0 255 0 255\n"
     ]
    },
    {
     "ename": "TypeError",
     "evalue": "'tuple' object is not callable",
     "output_type": "error",
     "traceback": [
      "\u001b[0;31m---------------------------------------------------------------------------\u001b[0m",
      "\u001b[0;31mTypeError\u001b[0m                                 Traceback (most recent call last)",
      "\u001b[0;31mTypeError\u001b[0m: 'tuple' object is not callable"
     ]
    },
    {
     "name": "stdout",
     "output_type": "stream",
     "text": [
      "0 144 0 255 0 255\n"
     ]
    },
    {
     "ename": "TypeError",
     "evalue": "'tuple' object is not callable",
     "output_type": "error",
     "traceback": [
      "\u001b[0;31m---------------------------------------------------------------------------\u001b[0m",
      "\u001b[0;31mTypeError\u001b[0m                                 Traceback (most recent call last)",
      "\u001b[0;31mTypeError\u001b[0m: 'tuple' object is not callable"
     ]
    },
    {
     "name": "stdout",
     "output_type": "stream",
     "text": [
      "0 139 0 255 0 255\n",
      "0 139 0 255 0 255\n"
     ]
    },
    {
     "ename": "TypeError",
     "evalue": "'tuple' object is not callable",
     "output_type": "error",
     "traceback": [
      "\u001b[0;31m---------------------------------------------------------------------------\u001b[0m",
      "\u001b[0;31mTypeError\u001b[0m                                 Traceback (most recent call last)",
      "\u001b[0;31mTypeError\u001b[0m: 'tuple' object is not callable"
     ]
    },
    {
     "name": "stdout",
     "output_type": "stream",
     "text": [
      "0 134 0 255 0 255\n"
     ]
    },
    {
     "ename": "TypeError",
     "evalue": "'tuple' object is not callable",
     "output_type": "error",
     "traceback": [
      "\u001b[0;31m---------------------------------------------------------------------------\u001b[0m",
      "\u001b[0;31mTypeError\u001b[0m                                 Traceback (most recent call last)",
      "\u001b[0;31mTypeError\u001b[0m: 'tuple' object is not callable"
     ]
    },
    {
     "name": "stdout",
     "output_type": "stream",
     "text": [
      "0 129 0 255 0 255\n"
     ]
    },
    {
     "ename": "TypeError",
     "evalue": "'tuple' object is not callable",
     "output_type": "error",
     "traceback": [
      "\u001b[0;31m---------------------------------------------------------------------------\u001b[0m",
      "\u001b[0;31mTypeError\u001b[0m                                 Traceback (most recent call last)",
      "\u001b[0;31mTypeError\u001b[0m: 'tuple' object is not callable"
     ]
    },
    {
     "name": "stdout",
     "output_type": "stream",
     "text": [
      "0 118 0 255 0 255\n",
      "0 118 0 255 0 255\n",
      "0 118 0 255 0 255\n",
      "0 118 0 255 0 255\n",
      "0 118 0 255 0 255\n",
      "0 118 0 255 0 255\n"
     ]
    },
    {
     "ename": "TypeError",
     "evalue": "'int' object is not callable",
     "output_type": "error",
     "traceback": [
      "\u001b[0;31m---------------------------------------------------------------------------\u001b[0m",
      "\u001b[0;31mTypeError\u001b[0m                                 Traceback (most recent call last)",
      "\u001b[0;31mTypeError\u001b[0m: 'int' object is not callable"
     ]
    },
    {
     "name": "stdout",
     "output_type": "stream",
     "text": [
      "0 118 0 255 0 250\n",
      "0 118 0 255 0 250\n"
     ]
    },
    {
     "ename": "TypeError",
     "evalue": "'int' object is not callable",
     "output_type": "error",
     "traceback": [
      "\u001b[0;31m---------------------------------------------------------------------------\u001b[0m",
      "\u001b[0;31mTypeError\u001b[0m                                 Traceback (most recent call last)",
      "\u001b[0;31mTypeError\u001b[0m: 'int' object is not callable"
     ]
    },
    {
     "name": "stdout",
     "output_type": "stream",
     "text": [
      "0 118 0 255 0 245\n"
     ]
    },
    {
     "ename": "TypeError",
     "evalue": "'int' object is not callable",
     "output_type": "error",
     "traceback": [
      "\u001b[0;31m---------------------------------------------------------------------------\u001b[0m",
      "\u001b[0;31mTypeError\u001b[0m                                 Traceback (most recent call last)",
      "\u001b[0;31mTypeError\u001b[0m: 'int' object is not callable"
     ]
    },
    {
     "name": "stdout",
     "output_type": "stream",
     "text": [
      "0 118 0 255 0 240\n"
     ]
    },
    {
     "ename": "TypeError",
     "evalue": "'int' object is not callable",
     "output_type": "error",
     "traceback": [
      "\u001b[0;31m---------------------------------------------------------------------------\u001b[0m",
      "\u001b[0;31mTypeError\u001b[0m                                 Traceback (most recent call last)",
      "\u001b[0;31mTypeError\u001b[0m: 'int' object is not callable"
     ]
    },
    {
     "name": "stdout",
     "output_type": "stream",
     "text": [
      "0 118 0 255 0 235\n"
     ]
    },
    {
     "ename": "TypeError",
     "evalue": "'int' object is not callable",
     "output_type": "error",
     "traceback": [
      "\u001b[0;31m---------------------------------------------------------------------------\u001b[0m",
      "\u001b[0;31mTypeError\u001b[0m                                 Traceback (most recent call last)",
      "\u001b[0;31mTypeError\u001b[0m: 'int' object is not callable"
     ]
    },
    {
     "name": "stdout",
     "output_type": "stream",
     "text": [
      "0 118 0 255 0 230\n"
     ]
    },
    {
     "ename": "TypeError",
     "evalue": "'int' object is not callable",
     "output_type": "error",
     "traceback": [
      "\u001b[0;31m---------------------------------------------------------------------------\u001b[0m",
      "\u001b[0;31mTypeError\u001b[0m                                 Traceback (most recent call last)",
      "\u001b[0;31mTypeError\u001b[0m: 'int' object is not callable"
     ]
    },
    {
     "name": "stdout",
     "output_type": "stream",
     "text": [
      "0 118 0 255 0 225\n"
     ]
    },
    {
     "ename": "TypeError",
     "evalue": "'int' object is not callable",
     "output_type": "error",
     "traceback": [
      "\u001b[0;31m---------------------------------------------------------------------------\u001b[0m",
      "\u001b[0;31mTypeError\u001b[0m                                 Traceback (most recent call last)",
      "\u001b[0;31mTypeError\u001b[0m: 'int' object is not callable"
     ]
    },
    {
     "name": "stdout",
     "output_type": "stream",
     "text": [
      "0 118 0 255 0 211\n",
      "0 118 0 255 0 211\n",
      "0 118 0 255 0 211\n",
      "0 118 0 255 0 211\n",
      "0 118 0 255 0 211\n",
      "0 118 0 255 0 211\n",
      "0 118 0 255 0 211\n",
      "0 118 0 255 0 211\n",
      "0 118 0 255 0 211\n",
      "0 118 0 255 0 211\n",
      "0 118 0 255 0 211\n",
      "0 118 0 255 0 211\n",
      "0 118 0 255 0 211\n",
      "0 118 0 255 0 211\n",
      "0 118 0 255 0 211\n",
      "0 118 0 255 0 211\n",
      "0 118 0 255 0 211\n",
      "0 118 0 255 0 211\n",
      "0 118 0 255 0 211\n",
      "0 118 0 255 0 211\n",
      "0 118 0 255 0 211\n",
      "0 118 0 255 0 211\n",
      "0 118 0 255 0 211\n",
      "0 118 0 255 0 211\n",
      "0 118 0 255 0 211\n",
      "0 118 0 255 0 211\n",
      "0 118 0 255 0 211\n",
      "0 118 0 255 0 211\n",
      "0 118 0 255 0 211\n",
      "0 118 0 255 0 211\n",
      "0 118 0 255 0 211\n"
     ]
    }
   ],
   "source": [
    "def empty(a):\n",
    "    pass\n",
    "    \n",
    "cv.namedWindow(\"TrackBars\")\n",
    "cv.resizeWindow(\"TrackBars\",(500,400))\n",
    "cv.createTrackbar(\"Hue min\",\"TrackBars\",0,179,empty)\n",
    "cv.createTrackbar(\"Hue max\",\"TrackBars\",179,179,empty)\n",
    "cv.createTrackbar(\"Sat min\",\"TrackBars\",0,255,empty)\n",
    "cv.createTrackbar(\"Sat max\",\"TrackBars\",255,255,empty)\n",
    "cv.createTrackbar(\"Val min\",\"TrackBars\",0,255,empty)\n",
    "cv.createTrackbar(\"Val max\",\"TrackBars\",255,255,empty)\n",
    "while(True):\n",
    "    img=cv.imread(\"toycar.jpg\")\n",
    "    img=cv.resize(img,(500,400))\n",
    "    #convert in HSV\n",
    "    img_HSV=cv.cvtColor(img,cv.COLOR_BGR2HSV)\n",
    "    \n",
    "   \n",
    "    #Returns Current position of each Trackbar\n",
    "    Hue_Min=cv.getTrackbarPos(\"Hue min\",\"TrackBars\")\n",
    "    Hue_Max=cv.getTrackbarPos(\"Hue max\",\"TrackBars\")\n",
    "    Sat_Min=cv.getTrackbarPos(\"Sat min\",\"TrackBars\")\n",
    "    Sat_Max=cv.getTrackbarPos(\"Sat max\",\"TrackBars\")\n",
    "    Val_Min=cv.getTrackbarPos(\"Val min\",\"TrackBars\")\n",
    "    Val_Max=cv.getTrackbarPos(\"Val max\",\"TrackBars\")\n",
    "    print(Hue_Min,Hue_Max,Sat_Min,Sat_Max,Val_Min,Val_Max)\n",
    "    \n",
    "    upper=np.array([Hue_Max,Sat_Max,Val_Max])\n",
    "    lower=np.array([Hue_Min,Sat_Min,Val_Min])\n",
    "    mask=cv.inRange(img,lower,upper)\n",
    "    img_result=cv.bitwise_and(img,img,mask=mask)\n",
    "    hor=np.hstack((img,img_HSV))\n",
    "    \n",
    "    Final_img=cv.resize(hor,(400,300))\n",
    "    cv.imshow(\"Final_image\",Final_img)\n",
    "    cv.imshow(\"Result\",img_result)\n",
    "    #cv.imshow(\"Img_HSV\",img_HSV)\n",
    "    cv.imshow(\"Mask\",mask)\n",
    "    cv.waitKey(1)\n"
   ]
  },
  {
   "cell_type": "code",
   "execution_count": null,
   "id": "1696295e",
   "metadata": {},
   "outputs": [],
   "source": []
  },
  {
   "cell_type": "code",
   "execution_count": null,
   "id": "71cb3b55",
   "metadata": {},
   "outputs": [],
   "source": []
  }
 ],
 "metadata": {
  "kernelspec": {
   "display_name": "Python 3",
   "language": "python",
   "name": "python3"
  },
  "language_info": {
   "codemirror_mode": {
    "name": "ipython",
    "version": 3
   },
   "file_extension": ".py",
   "mimetype": "text/x-python",
   "name": "python",
   "nbconvert_exporter": "python",
   "pygments_lexer": "ipython3",
   "version": "3.8.8"
  }
 },
 "nbformat": 4,
 "nbformat_minor": 5
}
